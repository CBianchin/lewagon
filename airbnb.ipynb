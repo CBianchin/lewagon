{
 "cells": [
  {
   "cell_type": "markdown",
   "metadata": {},
   "source": [
    "# Airbnb\n",
    "\n",
    "## Context and objectives\n",
    "\n",
    "Your have been missioned by the CEO of Airbnb Spain to analyze accommodations park in Madrid. More specifically, you are going to investigate the price of Airbnb accommodations in Madrid from April 2021 to April 2022."
   ]
  },
  {
   "cell_type": "markdown",
   "metadata": {},
   "source": [
    "## The database\n",
    "\n",
    "### Download\n",
    "\n",
    "Download the database in the `db` directory:"
   ]
  },
  {
   "cell_type": "code",
   "execution_count": 8,
   "metadata": {},
   "outputs": [
    {
     "name": "stderr",
     "output_type": "stream",
     "text": [
      "Le processus ne peut pas acc�der au fichier car ce fichier est utilis� par un autre processus.\n"
     ]
    }
   ],
   "source": [
    "!curl https://wagon-public-datasets.s3.amazonaws.com/certification/airbnb_profits_analysis/airbnb.sqlite > db/airbnb.sqlite"
   ]
  },
  {
   "cell_type": "markdown",
   "metadata": {},
   "source": [
    "Check the database has been saved:"
   ]
  },
  {
   "cell_type": "code",
   "execution_count": 9,
   "metadata": {},
   "outputs": [
    {
     "name": "stdout",
     "output_type": "stream",
     "text": [
      "Structure du dossier pour le volume Windows \n",
      "Le num�ro de s�rie du volume est 56BD-FA94\n",
      "C:.\n",
      "����.vscode\n",
      "����data\n",
      "����db\n",
      "����tests\n"
     ]
    }
   ],
   "source": [
    "!tree"
   ]
  },
  {
   "cell_type": "markdown",
   "metadata": {},
   "source": [
    "### Schema"
   ]
  },
  {
   "cell_type": "markdown",
   "metadata": {},
   "source": [
    "Open the database with your favorite tool (DBeaver, sqlite3, Postico,...) then:\n",
    "\n",
    "- **📝 Draw the database schema with an online editor - https://ondras.zarovi.cz/sql/demo/**\n",
    "- **💾 Save the `XML` version of the database schema in a `db/airbnb.xml` file**\n",
    "\n",
    "\n",
    "Once done, check you have the `airbnb.xml` file in the `db` directory:"
   ]
  },
  {
   "cell_type": "code",
   "execution_count": 10,
   "metadata": {},
   "outputs": [
    {
     "name": "stdout",
     "output_type": "stream",
     "text": [
      "Structure du dossier pour le volume Windows \n",
      "Le num�ro de s�rie du volume est 56BD-FA94\n",
      "C:.\n",
      "����.vscode\n",
      "����data\n",
      "����db\n",
      "����tests\n"
     ]
    }
   ],
   "source": [
    "!tree"
   ]
  },
  {
   "cell_type": "markdown",
   "metadata": {},
   "source": [
    "### Querying the database\n",
    "\n",
    "In order to perform some analysis, you need to fetch the following information from **all** the accommodations of the database:\n",
    "- `id`: the unique identifier of the accommodation\n",
    "- `price`: the value paid per night in USD\n",
    "- `neighbourhood`: the neighbourhood the accommodation belongs to\n",
    "- `neighbourhood_group`: the neighbourhoods group the accommodation belongs to\n",
    "- `bedrooms`: the number of bedrooms \n",
    "- `beds`: the number of beds\n",
    "- `accommodates`: number of persons the accommodation is suited for\n",
    "- `amenities`: a list of amenities of the accommodation\n",
    "- `minimum_nights`: the minimum number of nights which can be booked\n",
    "- `maximum_nights`: the maximum number of nights which can be booked in a row\n",
    "- `host_id`: the unique identifier of the host\n",
    "- `host_since`: date of the first listing of the host\n",
    "- `host_neighbourhood`: the neighbourhood the accommodation belongs to\n",
    "- `host_location`: the location of the host\n",
    "- `host_response_time`: the category of response time of the host\n",
    "- `host_response_rate`: the response rate of the host in %\n",
    "- `host_acceptance_rate`: the acceptance rate of the host in %\n",
    "- `host_is_superhost`: whether or not the host is a Superhost\n",
    "- `host_has_profile_pic`: whether or not the host has a profile picture\n",
    "- `host_identity_verified`: whether or not the identity of the host is verified\n",
    "- `latitude`: latitude of the accommodation\n",
    "- `longitude`: longitude of the accommodation\n",
    "- `room_type`: category of the accommodation\n",
    "- `property_type`: category of the property the accommodation belongs to\n",
    "- `review_scores_rating`: average score rating for the accommodation in %\n",
    "- `number_of_reviews`: total number of reviews\n",
    "- `yearly_availability`: the total number of days where the accommodation available for guests in a year"
   ]
  },
  {
   "cell_type": "markdown",
   "metadata": {},
   "source": [
    "**📝 Write an SQL query to fetch the above information and store it as a `str` in the `query` variable.**"
   ]
  },
  {
   "cell_type": "code",
   "execution_count": 11,
   "metadata": {
    "tags": [
     "challengify"
    ]
   },
   "outputs": [],
   "source": [
    "query ='SELECT  a.id,\\\n",
    "                a.price,\\\n",
    "                n.name as neighbourhood,\\\n",
    "                g.name as neighbourhood_group,\\\n",
    "                COUNT(bedrooms)bedrooms,\\\n",
    "                COUNT(beds) bed,\\\n",
    "                MIN(minimum_nights) minimun_nights,\\\n",
    "                MAX(maximum_nights) maximum_nights,\\\n",
    "                host_id,host_since,\\\n",
    "                host_location,\\\n",
    "                host_neighbourhood,\\\n",
    "                host_location,\\\n",
    "                host_response_time,\\\n",
    "                host_response_rate,\\\n",
    "                host_acceptance_rate,\\\n",
    "                host_is_superhost,\\\n",
    "                host_identity_verified,\\\n",
    "                latitude,\\\n",
    "                longitude,\\\n",
    "                room_type\\\n",
    "                property_type,\\\n",
    "                review_scores_rating,\\\n",
    "                COUNT(distinct r.id) Number_of_viewers,\\\n",
    "                COUNT(available) yearly_availability\\\n",
    "        FROM accommodations a\\\n",
    "        LEFT JOIN neighbourhoods n\\\n",
    "        ON neighbourhood_id=n.id\\\n",
    "        LEFT JOIN neighbourhood_groups g\\\n",
    "        ON  n.neighbourhood_group_id=g.id \\\n",
    "        LEFT JOIN reviews r\\\n",
    "        ON a.id=r.accommodation_id\\\n",
    "        LEFT JOIN availabilities av\\\n",
    "        ON a.id=av.accommodation_id\\\n",
    "        GROUP BY 1,2,3,4,9,10,11,12,13,14,15,16,17,18 LIMIT 10;'"
   ]
  },
  {
   "cell_type": "markdown",
   "metadata": {},
   "source": [
    "**📝 Connect to the `airbnb.sqlite` database and use the query above to store the data in a `DataFrame` named `data`. Display the 10 first rows**"
   ]
  },
  {
   "cell_type": "code",
   "execution_count": 12,
   "metadata": {
    "tags": [
     "challengify"
    ]
   },
   "outputs": [],
   "source": [
    "import sqlite3\n",
    "import pandas as pd\n",
    "\n",
    "# Create a SQL connection to our SQLite database\n",
    "con = sqlite3.connect(\"db/airbnb.sqlite\")\n",
    "\n",
    "cur = con.cursor()\n",
    "\n",
    "data=cur.execute(query)\n",
    "\n",
    "pd.set_option('display.max_rows',10)\n",
    "\n",
    "nbresult = pd.DataFrame(data)\n",
    "\n",
    "print(nbresult)\n",
    "\n",
    "con.close()"
   ]
  },
  {
   "cell_type": "markdown",
   "metadata": {},
   "source": [
    "### 💾 Save your results\n",
    "\n",
    "Run the cell below to save your results."
   ]
  },
  {
   "cell_type": "code",
   "execution_count": 1,
   "metadata": {},
   "outputs": [
    {
     "ename": "ModuleNotFoundError",
     "evalue": "No module named 'nbresult'",
     "output_type": "error",
     "traceback": [
      "\u001b[1;31m---------------------------------------------------------------------------\u001b[0m",
      "\u001b[1;31mModuleNotFoundError\u001b[0m                       Traceback (most recent call last)",
      "\u001b[1;32m~\\AppData\\Local\\Temp\\ipykernel_30384\\3634933146.py\u001b[0m in \u001b[0;36m<module>\u001b[1;34m\u001b[0m\n\u001b[1;32m----> 1\u001b[1;33m \u001b[1;32mfrom\u001b[0m \u001b[0mnbresult\u001b[0m \u001b[1;32mimport\u001b[0m \u001b[0mChallengeResult\u001b[0m\u001b[1;33m\u001b[0m\u001b[1;33m\u001b[0m\u001b[0m\n\u001b[0m\u001b[0;32m      2\u001b[0m result = ChallengeResult(\n\u001b[0;32m      3\u001b[0m     \u001b[1;34m'query'\u001b[0m\u001b[1;33m,\u001b[0m\u001b[1;33m\u001b[0m\u001b[1;33m\u001b[0m\u001b[0m\n\u001b[0;32m      4\u001b[0m     \u001b[0mquery\u001b[0m\u001b[1;33m=\u001b[0m\u001b[0mquery\u001b[0m\u001b[1;33m,\u001b[0m\u001b[1;33m\u001b[0m\u001b[1;33m\u001b[0m\u001b[0m\n\u001b[0;32m      5\u001b[0m     \u001b[0mshape\u001b[0m\u001b[1;33m=\u001b[0m\u001b[0mdata\u001b[0m\u001b[1;33m.\u001b[0m\u001b[0mshape\u001b[0m\u001b[1;33m,\u001b[0m\u001b[1;33m\u001b[0m\u001b[1;33m\u001b[0m\u001b[0m\n",
      "\u001b[1;31mModuleNotFoundError\u001b[0m: No module named 'nbresult'"
     ]
    }
   ],
   "source": [
    "from nbresult import ChallengeResult\n",
    "result = ChallengeResult(\n",
    "    'query',\n",
    "    query=query,\n",
    "    shape=data.shape,\n",
    "    columns=data.columns,\n",
    "    host_locations=data['host_location'].unique(),\n",
    "    maximums=data.max(axis=0),\n",
    "    minimums=data.min(axis=0),\n",
    "    means=data.mean(axis=0)\n",
    ")\n",
    "result.write()"
   ]
  },
  {
   "cell_type": "markdown",
   "metadata": {},
   "source": [
    "### Load data from a CSV file\n",
    "\n",
    "We provide you a clean dataset you should start withto perform your analysis:"
   ]
  },
  {
   "cell_type": "markdown",
   "metadata": {},
   "source": [
    "**📝 Load the data from this URL: https://wagon-public-datasets.s3.amazonaws.com/certification/airbnb_profits_analysis/airbnb.csv inside a `DataFrame` named `accommodations`. Display the 10 first rows.** "
   ]
  },
  {
   "cell_type": "code",
   "execution_count": null,
   "metadata": {
    "tags": [
     "challengify"
    ]
   },
   "outputs": [
    {
     "name": "stdout",
     "output_type": "stream",
     "text": [
      "      id      price   neighbourhood neighbourhood_group  bedrooms  beds  \\\n",
      "0   6369     $60.00  Hispanoamérica           Chamartín       1.0   1.0   \n",
      "1  21853     $31.00        Cármenes              Latina       1.0   1.0   \n",
      "2  23001     $50.00         Legazpi          Arganzuela       3.0   5.0   \n",
      "3  26825     $26.00         Legazpi          Arganzuela       1.0   1.0   \n",
      "4  28200     $85.00         Legazpi          Arganzuela       3.0   4.0   \n",
      "5  30320     $65.00             Sol              Centro       1.0   2.0   \n",
      "6  30959     $54.00     Embajadores              Centro       1.0   1.0   \n",
      "7  37859  $1,400.00         Palacio              Centro       2.0   3.0   \n",
      "8  40718     $79.00        Justicia              Centro       1.0   2.0   \n",
      "9  40916     $90.00     Universidad              Centro       1.0   3.0   \n",
      "\n",
      "   accommodates                                          amenities  \\\n",
      "0             2  [\"Kitchen\", \"Elevator\", \"Extra pillows and bla...   \n",
      "1             1  [\"Bed linens\", \"Refrigerator\", \"Dishes and sil...   \n",
      "2             6  [\"Pool\", \"Dishwasher\", \"Bed linens\", \"Refriger...   \n",
      "3             1  [\"Elevator\", \"Patio or balcony\", \"Bed linens\",...   \n",
      "4             6  [\"TV with standard cable\", \"Kitchen\", \"Elevato...   \n",
      "5             2  [\"TV with standard cable\", \"Heating\", \"Air con...   \n",
      "6             2  [\"TV with standard cable\", \"Kitchen\", \"Elevato...   \n",
      "7             5  [\"Kitchen\", \"Elevator\", \"Dryer\", \"Iron\", \"Wifi...   \n",
      "8             4  [\"Bed linens\", \"Refrigerator\", \"Crib\", \"Dishes...   \n",
      "9             3  [\"Kitchen\", \"Elevator\", \"Wifi\", \"Heating\", \"Lo...   \n",
      "\n",
      "   minimum_nights  maximum_nights  ...  host_is_superhost  \\\n",
      "0               1            1125  ...                  t   \n",
      "1               4              40  ...                  f   \n",
      "2              15             730  ...                  f   \n",
      "3               2            1125  ...                  f   \n",
      "4               1             365  ...                  f   \n",
      "5               5             180  ...                  f   \n",
      "6               3             730  ...                  f   \n",
      "7               3             730  ...                  t   \n",
      "8               3             500  ...                  t   \n",
      "9               5             180  ...                  f   \n",
      "\n",
      "  host_has_profile_pic host_identity_verified  latitude longitude  \\\n",
      "0                    t                      t  40.45724  -3.67688   \n",
      "1                    t                      t  40.40381  -3.74130   \n",
      "2                    t                      t  40.38840  -3.69511   \n",
      "3                    t                      t  40.38975  -3.69018   \n",
      "4                    t                      t  40.38860  -3.69492   \n",
      "5                    t                      f  40.41476  -3.70418   \n",
      "6                    t                      f  40.41259  -3.70105   \n",
      "7                    t                      t  40.41844  -3.71073   \n",
      "8                    t                      t  40.41969  -3.69736   \n",
      "9                    t                      f  40.42247  -3.70577   \n",
      "\n",
      "         room_type              property_type review_scores_rating  \\\n",
      "0     Private room  Private room in apartment                 98.0   \n",
      "1     Private room  Private room in apartment                 92.0   \n",
      "2  Entire home/apt           Entire apartment                  NaN   \n",
      "3     Private room      Private room in house                 94.0   \n",
      "4  Entire home/apt           Entire apartment                 80.0   \n",
      "5  Entire home/apt           Entire apartment                 93.0   \n",
      "6  Entire home/apt                Entire loft                 88.0   \n",
      "7  Entire home/apt           Entire apartment                  NaN   \n",
      "8  Entire home/apt           Entire apartment                 93.0   \n",
      "9  Entire home/apt           Entire apartment                 93.0   \n",
      "\n",
      "  number_of_reviews yearly_availability  \n",
      "0                78               180.0  \n",
      "1                33               364.0  \n",
      "2                 0               366.0  \n",
      "3               149               365.0  \n",
      "4                 3               365.0  \n",
      "5               170               351.0  \n",
      "6                 8                 NaN  \n",
      "7                 0               365.0  \n",
      "8               118               302.0  \n",
      "9                48               346.0  \n",
      "\n",
      "[10 rows x 27 columns]\n"
     ]
    }
   ],
   "source": [
    "import pandas as pd\n",
    "import wget \n",
    "\n",
    "url='https://wagon-public-datasets.s3.amazonaws.com/certification/airbnb_profits_analysis/airbnb.csv'\n",
    "\n",
    "accommadations=wget.download(url)\n",
    "\n",
    "df=pd.read_csv(accommadations, nrows=10)\n",
    "\n",
    "print (df)"
   ]
  },
  {
   "cell_type": "markdown",
   "metadata": {},
   "source": [
    "## Exploratory analysis\n",
    "\n",
    "In this section, explore the dataset and visualize the data to get some intuitions.\n",
    "\n",
    "In particular, try to make a sense of the relationships between the price of an accommodation and its characteristics.\n",
    "\n",
    "\n",
    "ℹ️ We are **not** waiting for multivariate analysis at this point (using the `statsmodels` package)"
   ]
  },
  {
   "cell_type": "code",
   "execution_count": null,
   "metadata": {
    "tags": [
     "challengify"
    ]
   },
   "outputs": [],
   "source": [
    "import statsmodels\n",
    "# I will stop here as I have not idea how to answer these questions^^ and i'm running out of time."
   ]
  },
  {
   "cell_type": "markdown",
   "metadata": {},
   "source": [
    "## Statistical analysis\n",
    "\n",
    "These analysis can help you to forge your presentation but you are **strongly encouraged** to follow your own findings."
   ]
  },
  {
   "cell_type": "markdown",
   "metadata": {},
   "source": [
    "### Hotel room statistics\n",
    "\n",
    "The Airbnb team is really interested in the **Hotel rooms** so you will have to answer some questions about it. \n",
    "\n",
    "To do so, we are considering a binary segmentation: **Hotel rooms vs the rest**."
   ]
  },
  {
   "cell_type": "markdown",
   "metadata": {},
   "source": [
    "**❓ Using a statistical test, can you tell than Hotel rooms are statistically more expensive than the other rooms?**\n",
    "\n",
    "Store the $p\\text{-}value$ of your test inside a `p_value` variable."
   ]
  },
  {
   "cell_type": "code",
   "execution_count": null,
   "metadata": {
    "tags": [
     "challengify"
    ]
   },
   "outputs": [],
   "source": [
    "# YOUR CODE HERE"
   ]
  },
  {
   "cell_type": "markdown",
   "metadata": {},
   "source": [
    "### Price room analysis"
   ]
  },
  {
   "cell_type": "markdown",
   "metadata": {},
   "source": [
    "**❓ Plot the distribution of the prices?**\n",
    "\n",
    "ℹ️ Use the accommodations with price lower than $200 for a better visualization"
   ]
  },
  {
   "cell_type": "code",
   "execution_count": null,
   "metadata": {
    "tags": [
     "challengify"
    ]
   },
   "outputs": [],
   "source": [
    "# YOUR CODE HERE"
   ]
  },
  {
   "cell_type": "markdown",
   "metadata": {},
   "source": [
    "**❓ What do think about that distribution?**"
   ]
  },
  {
   "cell_type": "markdown",
   "metadata": {
    "tags": [
     "challengify"
    ]
   },
   "source": [
    "> YOUR ANSWER HERE"
   ]
  },
  {
   "cell_type": "markdown",
   "metadata": {},
   "source": [
    "**📝 What transformation would you use to the price to fit a linear model? Transform your target as you see fit.**"
   ]
  },
  {
   "cell_type": "code",
   "execution_count": null,
   "metadata": {
    "tags": [
     "challengify"
    ]
   },
   "outputs": [],
   "source": [
    "# YOUR CODE HERE"
   ]
  },
  {
   "cell_type": "markdown",
   "metadata": {},
   "source": [
    "\n",
    "**❓ Can we explain the price for a customer with our features?**\n",
    "\n",
    "Using the numerical and the categorical features of your choice, try to fit a not too complex model to explain the price of an accommodation.\n",
    "\n",
    "Store the `summary` of the model inside a `model_summary` variable."
   ]
  },
  {
   "cell_type": "code",
   "execution_count": null,
   "metadata": {
    "tags": [
     "challengify"
    ]
   },
   "outputs": [],
   "source": [
    "# YOUR CODE HERE"
   ]
  },
  {
   "cell_type": "markdown",
   "metadata": {},
   "source": [
    "**❓ What features explain the best the price of an accommodation in Madrid?**\n",
    "- Which ones are the most statistically significant?\n",
    "- Which numerical feature is the most sensitive to the price?"
   ]
  },
  {
   "cell_type": "markdown",
   "metadata": {
    "tags": [
     "challengify"
    ]
   },
   "source": [
    "> YOUR ANSWER HERE"
   ]
  },
  {
   "cell_type": "markdown",
   "metadata": {},
   "source": [
    "**❓ Explain with your own words the impact of an increase of one unity of the feature of your choice on the price of an accommodation.**"
   ]
  },
  {
   "cell_type": "markdown",
   "metadata": {
    "tags": [
     "challengify"
    ]
   },
   "source": [
    "> YOUR ANSWER HERE"
   ]
  },
  {
   "cell_type": "markdown",
   "metadata": {},
   "source": [
    "**❓ Are you satisfied with your model? Why?**"
   ]
  },
  {
   "cell_type": "markdown",
   "metadata": {
    "tags": [
     "challengify"
    ]
   },
   "source": [
    "> YOUR ANSWER HERE"
   ]
  },
  {
   "cell_type": "markdown",
   "metadata": {},
   "source": [
    "**❓Are you confident in the p-values of your model?**"
   ]
  },
  {
   "cell_type": "code",
   "execution_count": null,
   "metadata": {
    "tags": [
     "challengify"
    ]
   },
   "outputs": [],
   "source": [
    "# YOUR CODE HERE"
   ]
  },
  {
   "cell_type": "markdown",
   "metadata": {},
   "source": [
    "### 💾 Save your results\n",
    "\n",
    "Run the cell below to save your results."
   ]
  },
  {
   "cell_type": "code",
   "execution_count": null,
   "metadata": {},
   "outputs": [],
   "source": [
    "from nbresult import ChallengeResult\n",
    "\n",
    "result = ChallengeResult('analysis', p_value=p_value, model_summary=str(model_summary))\n",
    "result.write()"
   ]
  }
 ],
 "metadata": {
  "kernelspec": {
   "display_name": "base",
   "language": "python",
   "name": "python3"
  },
  "language_info": {
   "codemirror_mode": {
    "name": "ipython",
    "version": 3
   },
   "file_extension": ".py",
   "mimetype": "text/x-python",
   "name": "python",
   "nbconvert_exporter": "python",
   "pygments_lexer": "ipython3",
   "version": "3.9.13"
  },
  "toc": {
   "base_numbering": 1,
   "nav_menu": {},
   "number_sections": false,
   "sideBar": true,
   "skip_h1_title": false,
   "title_cell": "Table of Contents",
   "title_sidebar": "Contents",
   "toc_cell": false,
   "toc_position": {
    "height": "calc(100% - 180px)",
    "left": "10px",
    "top": "150px",
    "width": "384px"
   },
   "toc_section_display": true,
   "toc_window_display": true
  },
  "vscode": {
   "interpreter": {
    "hash": "99eea5417f6721e187e71f4a21164e4d2c75990bb6de64bb5347fc0d1f2c86e1"
   }
  }
 },
 "nbformat": 4,
 "nbformat_minor": 4
}
